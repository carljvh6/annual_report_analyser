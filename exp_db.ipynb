{
 "cells": [
  {
   "cell_type": "markdown",
   "id": "05ac022c",
   "metadata": {},
   "source": [
    "# Setup"
   ]
  },
  {
   "cell_type": "code",
   "execution_count": null,
   "id": "c30674a9",
   "metadata": {},
   "outputs": [],
   "source": [
    "import json\n",
    "import pandas \n"
   ]
  },
  {
   "cell_type": "code",
   "execution_count": null,
   "id": "36249ce9",
   "metadata": {},
   "outputs": [],
   "source": []
  }
 ],
 "metadata": {
  "kernelspec": {
   "display_name": ".venv",
   "language": "python",
   "name": "python3"
  },
  "language_info": {
   "codemirror_mode": {
    "name": "ipython",
    "version": 3
   },
   "file_extension": ".py",
   "mimetype": "text/x-python",
   "name": "python",
   "nbconvert_exporter": "python",
   "pygments_lexer": "ipython3",
   "version": "3.12.9"
  }
 },
 "nbformat": 4,
 "nbformat_minor": 5
}
